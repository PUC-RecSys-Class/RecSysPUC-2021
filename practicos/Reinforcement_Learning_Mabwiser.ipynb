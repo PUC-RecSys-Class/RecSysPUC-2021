{
  "nbformat": 4,
  "nbformat_minor": 0,
  "metadata": {
    "colab": {
      "name": "Reinforcement_Learning_Mabwiser.ipynb",
      "provenance": [],
      "collapsed_sections": []
    },
    "kernelspec": {
      "name": "python3",
      "display_name": "Python 3"
    }
  },
  "cells": [
    {
      "cell_type": "markdown",
      "metadata": {
        "id": "n9PTfi4n7oS6"
      },
      "source": [
        "# Práctico Mabwiser\n",
        "\n",
        "Adaptado de los tutoriales disponibles en: https://github.com/fidelity/mabwiser/tree/master/examples"
      ]
    },
    {
      "cell_type": "markdown",
      "metadata": {
        "id": "WVOrpYsfi_kq"
      },
      "source": [
        "## Reinforcement Learning\n",
        "\n",
        "Un agente de RL busca tomar acciones que logren maximizar la ganancia acumulativa.\n",
        "\n",
        "![RL setup](https://github.com/bamine/recsys-summer-school/raw/12e57cc4fd1cb26164d2beebf3ca29ebe2eab960/notebooks/images/rl-setup.png)\n",
        "\n",
        "\n",
        "## Exploration vs. Exploitation\n",
        "\n",
        "Se busca encontrar un balance entre la exploration (decidir tomar una acción para ganar conocimiento) y exploitation (decidir la acción que se calcula que tendrá la mejor ganancia).\n",
        "\n",
        "![texto alternativo](https://miro.medium.com/max/1400/1*_5dltx4BcI8rRmCK2Sq_kw.png)"
      ]
    },
    {
      "cell_type": "markdown",
      "metadata": {
        "id": "5hhwKK1fOqq1"
      },
      "source": [
        "## Importar paquetes necesarios"
      ]
    },
    {
      "cell_type": "code",
      "metadata": {
        "id": "OpCXt6tkYD_w",
        "colab": {
          "base_uri": "https://localhost:8080/"
        },
        "outputId": "a64f5ce7-d357-440d-867b-6ea89a4ec89d"
      },
      "source": [
        "!pip install mabwiser\n",
        "# -*- coding: utf-8 -*-\n",
        "\n",
        "import pandas as pd\n",
        "from sklearn.preprocessing import StandardScaler\n",
        "\n",
        "from mabwiser.mab import MAB, LearningPolicy, NeighborhoodPolicy\n",
        "\n",
        "import random\n",
        "from mabwiser.simulator import Simulator\n",
        "\n",
        "from time import time"
      ],
      "execution_count": null,
      "outputs": [
        {
          "output_type": "stream",
          "name": "stdout",
          "text": [
            "Collecting mabwiser\n",
            "  Downloading mabwiser-1.12.0-py3-none-any.whl (53 kB)\n",
            "\u001b[K     |████████████████████████████████| 53 kB 1.5 MB/s \n",
            "\u001b[?25hRequirement already satisfied: scipy in /usr/local/lib/python3.7/dist-packages (from mabwiser) (1.4.1)\n",
            "Requirement already satisfied: seaborn>=0.9.0 in /usr/local/lib/python3.7/dist-packages (from mabwiser) (0.11.2)\n",
            "Requirement already satisfied: pandas in /usr/local/lib/python3.7/dist-packages (from mabwiser) (1.1.5)\n",
            "Requirement already satisfied: numpy in /usr/local/lib/python3.7/dist-packages (from mabwiser) (1.19.5)\n",
            "Requirement already satisfied: joblib in /usr/local/lib/python3.7/dist-packages (from mabwiser) (1.0.1)\n",
            "Collecting scikit-learn>=0.24.0\n",
            "  Downloading scikit_learn-1.0-cp37-cp37m-manylinux_2_12_x86_64.manylinux2010_x86_64.whl (23.1 MB)\n",
            "\u001b[K     |████████████████████████████████| 23.1 MB 1.8 MB/s \n",
            "\u001b[?25hCollecting threadpoolctl>=2.0.0\n",
            "  Downloading threadpoolctl-3.0.0-py3-none-any.whl (14 kB)\n",
            "Requirement already satisfied: matplotlib>=2.2 in /usr/local/lib/python3.7/dist-packages (from seaborn>=0.9.0->mabwiser) (3.2.2)\n",
            "Requirement already satisfied: kiwisolver>=1.0.1 in /usr/local/lib/python3.7/dist-packages (from matplotlib>=2.2->seaborn>=0.9.0->mabwiser) (1.3.2)\n",
            "Requirement already satisfied: cycler>=0.10 in /usr/local/lib/python3.7/dist-packages (from matplotlib>=2.2->seaborn>=0.9.0->mabwiser) (0.10.0)\n",
            "Requirement already satisfied: python-dateutil>=2.1 in /usr/local/lib/python3.7/dist-packages (from matplotlib>=2.2->seaborn>=0.9.0->mabwiser) (2.8.2)\n",
            "Requirement already satisfied: pyparsing!=2.0.4,!=2.1.2,!=2.1.6,>=2.0.1 in /usr/local/lib/python3.7/dist-packages (from matplotlib>=2.2->seaborn>=0.9.0->mabwiser) (2.4.7)\n",
            "Requirement already satisfied: six in /usr/local/lib/python3.7/dist-packages (from cycler>=0.10->matplotlib>=2.2->seaborn>=0.9.0->mabwiser) (1.15.0)\n",
            "Requirement already satisfied: pytz>=2017.2 in /usr/local/lib/python3.7/dist-packages (from pandas->mabwiser) (2018.9)\n",
            "Installing collected packages: threadpoolctl, scikit-learn, mabwiser\n",
            "  Attempting uninstall: scikit-learn\n",
            "    Found existing installation: scikit-learn 0.22.2.post1\n",
            "    Uninstalling scikit-learn-0.22.2.post1:\n",
            "      Successfully uninstalled scikit-learn-0.22.2.post1\n",
            "Successfully installed mabwiser-1.12.0 scikit-learn-1.0 threadpoolctl-3.0.0\n"
          ]
        }
      ]
    },
    {
      "cell_type": "markdown",
      "metadata": {
        "id": "d_jkPlvD6NkV"
      },
      "source": [
        "## Problema con contexto:\n",
        "\n",
        "Una plataforma de comercio virtual cuenta con 5 _ads_ y quiere determinar cuál de estos generará mayor _revenue_ para un usuario en específico. Para esto, se cuenta con información histórica de _revenues_ obtenidos por otros usuarios en distintos _ads_ junto con la información de la edad, la razón de clicks y si cada usuario es subscriptor o no."
      ]
    },
    {
      "cell_type": "code",
      "metadata": {
        "id": "q0fTQk08vaWC"
      },
      "source": [
        "# Arms\n",
        "ads = [1, 2, 3, 4, 5]\n",
        "\n",
        "# Historical data of ad decisions with corresponding revenues and context information\n",
        "train_df = pd.DataFrame({'ad': [1, 1, 1, 2, 4, 5, 3, 3, 2, 1, 4, 5, 3, 2, 5],\n",
        "                         'revenues': [10, 17, 22, 9, 4, 20, 7, 8, 20, 9, 50, 5, 7, 12, 10],\n",
        "                         'age': [22, 27, 39, 48, 21, 20, 19, 37, 52, 26, 18, 42, 55, 57, 38],\n",
        "                         'click_rate': [0.2, 0.6, 0.99, 0.68, 0.15, 0.23, 0.75, 0.17,\n",
        "                                        0.33, 0.65, 0.56, 0.22, 0.19, 0.11, 0.83],\n",
        "                         'subscriber': [1, 0, 1, 0, 1, 0, 1, 1, 1, 0, 1, 1, 0, 1, 0]}\n",
        "                        )\n",
        "\n",
        "# Test data to for new prediction\n",
        "test_df = pd.DataFrame({'age': [37, 52], 'click_rate': [0.5, 0.6], 'subscriber': [0, 1]})\n",
        "test_df_revenue = pd.Series([7, 13])\n",
        "\n",
        "# Scale the training and test data\n",
        "scaler = StandardScaler()\n",
        "train = scaler.fit_transform(train_df[['age', 'click_rate', 'subscriber']].values.astype('float64'))\n",
        "test = scaler.transform(test_df.values.astype('float64'))"
      ],
      "execution_count": null,
      "outputs": []
    },
    {
      "cell_type": "code",
      "metadata": {
        "colab": {
          "base_uri": "https://localhost:8080/"
        },
        "id": "YFOkn72Pwe2v",
        "outputId": "21f9f607-0c9d-432f-97c1-f536a20d66e0"
      },
      "source": [
        "########################################################\n",
        "# KNearest Neighborhood Policy with UCB1 Learning Policy\n",
        "########################################################\n",
        "\n",
        "# KNearest context policy with k equals to 5 and ucb1 learning with alpha of 1.25\n",
        "knearest = MAB(arms=ads,\n",
        "               learning_policy=LearningPolicy.UCB1(alpha=1.25),\n",
        "               neighborhood_policy=NeighborhoodPolicy.KNearest(k=5))\n",
        "\n",
        "# Learn from previous ads shown and revenues generated\n",
        "knearest.fit(decisions=train_df['ad'], rewards=train_df['revenues'], contexts=train)\n",
        "\n",
        "# Predict the next best ad to show\n",
        "prediction = knearest.predict(test)\n",
        "\n",
        "# Expectation of each ad based on learning from past ad revenues\n",
        "expectations = knearest.predict_expectations(test)\n",
        "\n",
        "# Results\n",
        "print(\"KNearest: \", prediction, \" \", expectations)\n",
        "assert(prediction == [5, 1])\n",
        "\n",
        "# Online update of model\n",
        "knearest.partial_fit(decisions=prediction, rewards=test_df_revenue, contexts=test)\n",
        "\n",
        "# Updating of the model with new arm\n",
        "knearest.add_arm(6)"
      ],
      "execution_count": null,
      "outputs": [
        {
          "output_type": "stream",
          "name": "stdout",
          "text": [
            "KNearest:  [5, 1]   [{1: 14.5857953014744, 2: 11.242653222492628, 3: 0, 4: 0, 5: 16.5857953014744}, {1: 24.242653222492628, 2: 17.5857953014744, 3: 10.242653222492628, 4: 0, 5: 7.242653222492627}]\n"
          ]
        }
      ]
    },
    {
      "cell_type": "markdown",
      "metadata": {
        "id": "cwpwQfVKe1BE"
      },
      "source": [
        "### Actividad 1: \n",
        "Suponga que a este mismo usuario, se le presenta el nuevo _ad_, $6$, obteniendo un revenue de $40$. Usando el método _partial\\_fit_ simule este caso e imprima las nuevas expectations. Comente los resultados obtenidos."
      ]
    },
    {
      "cell_type": "code",
      "metadata": {
        "id": "J5oMOvZTwwLk"
      },
      "source": [
        ""
      ],
      "execution_count": null,
      "outputs": []
    },
    {
      "cell_type": "markdown",
      "metadata": {
        "id": "JiV_AJDgHOIE"
      },
      "source": [
        "## Problema sin contexto:\n",
        "\n",
        "El sitio ahora quiere elegir entre dos posibles opciones de diseño para su _homepage_. Para esto tiene datos históricos del revenue aportado por cada diseño, pero no cuenta con ningún dato acerca de los usuarios."
      ]
    },
    {
      "cell_type": "code",
      "metadata": {
        "id": "FqyI3tEyIHvF"
      },
      "source": [
        "# Arms\n",
        "options = [1, 2]\n",
        "\n",
        "# Historical data of layouts decisions and corresponding rewards\n",
        "layouts = [1, 1, 1, 2, 1, 2, 2, 1, 2, 1, 2, 2, 1, 2, 1]\n",
        "revenues = [10, 17, 22, 9, 4, 0, 7, 8, 20, 9, 50, 5, 7, 12, 10]"
      ],
      "execution_count": null,
      "outputs": []
    },
    {
      "cell_type": "code",
      "metadata": {
        "colab": {
          "base_uri": "https://localhost:8080/"
        },
        "id": "8xy6_yLHIU96",
        "outputId": "c9ffa0da-e96e-41a7-c67d-1d112c33868b"
      },
      "source": [
        "###################################\n",
        "# Epsilon Greedy Learning Policy\n",
        "###################################\n",
        "\n",
        "# Epsilon Greedy learning policy with random exploration set to 15%\n",
        "greedy = MAB(arms=options,\n",
        "             learning_policy=LearningPolicy.EpsilonGreedy(epsilon=0.15),\n",
        "             seed=123456)\n",
        "\n",
        "# Learn from previous layouts decisions and revenues generated\n",
        "greedy.fit(decisions=layouts, rewards=revenues)\n",
        "\n",
        "# Predict the next best layouts decision\n",
        "prediction = greedy.predict()\n",
        "\n",
        "# Expected revenues of each layouts learnt from historical data based on epsilon greedy policy\n",
        "expectations = greedy.predict_expectations()\n",
        "\n",
        "# Results\n",
        "print(\"Epsilon Greedy: \", prediction, \" \", expectations)\n",
        "# assert(prediction == 1)\n",
        "\n",
        "# Additional historical data becomes available which allows _online learning\n",
        "additional_layouts = [1, 2, 1, 2]\n",
        "additional_revenues = [0, 12, 7, 19]\n",
        "\n",
        "# Online updating of the model\n",
        "greedy.partial_fit(additional_layouts, additional_revenues)"
      ],
      "execution_count": null,
      "outputs": [
        {
          "output_type": "stream",
          "name": "stdout",
          "text": [
            "Epsilon Greedy:  2   {1: 10.875, 2: 14.714285714285714}\n"
          ]
        }
      ]
    },
    {
      "cell_type": "markdown",
      "metadata": {
        "id": "f8SYnQm7filh"
      },
      "source": [
        "### Actividad 2:\n",
        "Suponga que en un experimento online, se le muestra a un usuario ambos diseños y el _revenue_ obtenido es exactamente el estimado por el agente. ¿Qué esperaría que pase al actualizar el modelo? Simule este caso en $5$ iteraciones, imprimiendo las expectations. Comente los resultados observados."
      ]
    },
    {
      "cell_type": "code",
      "metadata": {
        "id": "yNPDzT7mIV6r"
      },
      "source": [
        ""
      ],
      "execution_count": null,
      "outputs": []
    },
    {
      "cell_type": "markdown",
      "metadata": {
        "id": "K5x9k7cFiLI1"
      },
      "source": [
        "* Learning policies:\n",
        " * Epsilon Greedy\n",
        " * LinTS\n",
        " * LinUCB\n",
        " * Popularity\n",
        " * Random\n",
        " * Softmax\n",
        " * Thompson Sampling (TS)\n",
        " * Upper Confidence Bound (UCB1)\n",
        "\n",
        "* Neighborhood Policies\n",
        " * Clusters\n",
        " * K-Nearest\n",
        " * LSH Nearest\n",
        " * Radius\n",
        " * TreeBandit"
      ]
    },
    {
      "cell_type": "markdown",
      "metadata": {
        "id": "0RkfsRP_J8AD"
      },
      "source": [
        "## Simulación:\n",
        "\n",
        "Vamos a simular un multi-armed bandits para un dataset aleatorio con $1000$ entradas de datos y comparar los rendimientos de cada learning-policy:"
      ]
    },
    {
      "cell_type": "code",
      "metadata": {
        "id": "PL4CRpsgU64C"
      },
      "source": [
        "size = 1000\n",
        "\n",
        "decisions = [random.randint(0, 2) for _ in range(size)]\n",
        "rewards = [random.randint(0, 1000) for _ in range(size)]\n",
        "contexts = [[random.random() for _ in range(50)] for _ in range(size)]"
      ],
      "execution_count": null,
      "outputs": []
    },
    {
      "cell_type": "code",
      "metadata": {
        "id": "DtgXBJ0aU8e3",
        "colab": {
          "base_uri": "https://localhost:8080/"
        },
        "outputId": "524f71a3-1897-4c79-f889-cebfda2ce9a9"
      },
      "source": [
        "####################################\n",
        "# Different Bandits for Simulation\n",
        "####################################\n",
        "\n",
        "print('Starting simulation 1\\n')\n",
        "\n",
        "\n",
        "def binarize(decision, reward):\n",
        "\n",
        "    return reward >= 500\n",
        "\n",
        "n_jobs=2\n",
        "contextual_mabs = [('Random', MAB([0, 1], LearningPolicy.Random(), NeighborhoodPolicy.Radius(10), n_jobs=n_jobs)),\n",
        "                   ('UCB1', MAB([0, 1], LearningPolicy.UCB1(1), NeighborhoodPolicy.Radius(10), n_jobs=n_jobs)),\n",
        "                   ('ThompsonSampling', MAB([0, 1], LearningPolicy.ThompsonSampling(binarize),\n",
        "                                            NeighborhoodPolicy.Radius(10), n_jobs=n_jobs)),\n",
        "                   ('EpsilonGreedy', MAB([0, 1], LearningPolicy.EpsilonGreedy(epsilon=.15),\n",
        "                                         NeighborhoodPolicy.Radius(10), n_jobs=n_jobs)),\n",
        "                   ('Softmax', MAB([0, 1], LearningPolicy.Softmax(), NeighborhoodPolicy.Radius(10), n_jobs=n_jobs))]\n",
        "\n",
        "context_free_mabs = [('Random', MAB([0, 1], LearningPolicy.Random(), n_jobs=n_jobs)),\n",
        "                     ('UCB1', MAB([0, 1], LearningPolicy.UCB1(1), n_jobs=n_jobs)),\n",
        "                     ('ThompsonSampling', MAB([0, 1], LearningPolicy.ThompsonSampling(binarize), n_jobs=n_jobs)),\n",
        "                     ('EpsilonGreedy', MAB([0, 1], LearningPolicy.EpsilonGreedy(epsilon=.15), n_jobs=n_jobs)),\n",
        "                     ('Softmax', MAB([0, 1], LearningPolicy.Softmax(), n_jobs=n_jobs))]"
      ],
      "execution_count": null,
      "outputs": [
        {
          "output_type": "stream",
          "name": "stdout",
          "text": [
            "Starting simulation 1\n",
            "\n"
          ]
        }
      ]
    },
    {
      "cell_type": "code",
      "metadata": {
        "id": "pE2uopohVYST",
        "colab": {
          "base_uri": "https://localhost:8080/",
          "height": 1000
        },
        "outputId": "2e8ca76c-3497-48ec-a3a6-663bcc0ce9d0"
      },
      "source": [
        "####################################\n",
        "# Context-Free Simulation\n",
        "####################################\n",
        "start = time()\n",
        "sim = Simulator(context_free_mabs, decisions, rewards, contexts=None,\n",
        "                scaler=None, test_size=0.5, is_ordered=False, batch_size=0, seed=123456)\n",
        "sim.run()\n",
        "end = time()\n",
        "\n",
        "runtime = (end - start) / 60\n",
        "print('Complete', str(runtime) + ' minutes')\n",
        "print('\\n')\n",
        "\n",
        "for mab_name, mab in sim.bandits:\n",
        "    print(mab_name)\n",
        "\n",
        "    print('Worst Case Scenario:', sim.bandit_to_arm_to_stats_min[mab_name])\n",
        "    print('Average Case Scenario:', sim.bandit_to_arm_to_stats_avg[mab_name])\n",
        "    print('Best Case Scenario:', sim.bandit_to_arm_to_stats_max[mab_name])\n",
        "\n",
        "    print('\\n\\n')\n",
        "\n",
        "sim.plot('max', True) \n",
        "# Vamos a plotear el best case scenario para todos los bandidos utilizados. El parámetro True indica que en el plot se va a plotear por separado cada \"brazo\""
      ],
      "execution_count": null,
      "outputs": [
        {
          "output_type": "stream",
          "name": "stderr",
          "text": [
            "2021-10-23 19:12:40,619 INFO Simulation Parameters\n",
            "2021-10-23 19:12:40,621 INFO \t bandits: [('Random', <mabwiser.mab.MAB object at 0x7fbcc87b3cd0>), ('UCB1', <mabwiser.mab.MAB object at 0x7fbcc87b38d0>), ('ThompsonSampling', <mabwiser.mab.MAB object at 0x7fbcc87b3e10>), ('EpsilonGreedy', <mabwiser.mab.MAB object at 0x7fbcc87b3ed0>), ('Softmax', <mabwiser.mab.MAB object at 0x7fbcc87b3f90>)]\n",
            "2021-10-23 19:12:40,622 INFO \t scaler: None\n",
            "2021-10-23 19:12:40,623 INFO \t test_size: 0.5\n",
            "2021-10-23 19:12:40,628 INFO \t is_ordered: False\n",
            "2021-10-23 19:12:40,630 INFO \t batch_size: 0\n",
            "2021-10-23 19:12:40,633 INFO \t evaluator: <function default_evaluator at 0x7fbccedcf680>\n",
            "2021-10-23 19:12:40,635 INFO \t seed: 123456\n",
            "2021-10-23 19:12:40,637 INFO \t is_quick: False\n",
            "2021-10-23 19:12:40,639 INFO \t log_file: None\n",
            "2021-10-23 19:12:40,641 INFO \t format: %(asctime)s %(levelname)s %(message)s\n",
            "2021-10-23 19:12:40,645 INFO \n",
            "\n",
            "2021-10-23 19:12:40,647 INFO Total Stats\n",
            "2021-10-23 19:12:40,649 INFO {0: {'count': 310, 'sum': 149986, 'min': 4, 'max': 1000, 'mean': 483.8258064516129, 'std': 282.3378586566124}, 1: {'count': 349, 'sum': 168775, 'min': 4, 'max': 997, 'mean': 483.5959885386819, 'std': 292.1776162043258}}\n",
            "2021-10-23 19:12:40,651 INFO \n",
            "\n",
            "2021-10-23 19:12:40,653 INFO Train/Test Split\n",
            "2021-10-23 19:12:40,660 INFO Train size: 500\n",
            "2021-10-23 19:12:40,664 INFO Test size: 500\n",
            "2021-10-23 19:12:40,666 INFO \n",
            "\n",
            "2021-10-23 19:12:40,669 INFO Train Stats\n",
            "2021-10-23 19:12:40,671 INFO {0: {'count': 170, 'sum': 79053, 'min': 4, 'max': 1000, 'mean': 465.0176470588235, 'std': 271.41224285380764}, 1: {'count': 161, 'sum': 73172, 'min': 9, 'max': 990, 'mean': 454.48447204968943, 'std': 284.98127007409494}}\n",
            "2021-10-23 19:12:40,674 INFO \n",
            "\n",
            "2021-10-23 19:12:40,678 INFO Test Stats\n",
            "2021-10-23 19:12:40,682 INFO {0: {'count': 140, 'sum': 70933, 'min': 28, 'max': 996, 'mean': 506.6642857142857, 'std': 293.445093689099}, 1: {'count': 188, 'sum': 95603, 'min': 4, 'max': 997, 'mean': 508.52659574468083, 'std': 295.9347691477612}}\n",
            "2021-10-23 19:12:40,684 INFO \n",
            "\n",
            "2021-10-23 19:12:40,687 INFO Training Bandits\n",
            "2021-10-23 19:12:40,689 INFO Random trained\n",
            "2021-10-23 19:12:40,808 INFO UCB1 trained\n",
            "2021-10-23 19:12:40,915 INFO ThompsonSampling trained\n",
            "2021-10-23 19:12:41,021 INFO EpsilonGreedy trained\n",
            "2021-10-23 19:12:41,128 INFO Softmax trained\n",
            "2021-10-23 19:12:41,129 INFO \n",
            "\n",
            "2021-10-23 19:12:41,131 INFO Testing Bandits\n",
            "2021-10-23 19:12:41,132 INFO Chunk 1 out of 1\n",
            "2021-10-23 19:12:41,157 INFO Random confusion matrix: [array([[ 81,  59,   0],\n",
            "       [102,  86,   0],\n",
            "       [ 86,  86,   0]])]\n",
            "2021-10-23 19:12:41,160 INFO Random minimum analysis {0: {'count': 269, 'sum': 42004, 'min': 4, 'max': 958, 'mean': 156.14869888475837, 'std': 279.36967056729617}, 1: {'count': 231, 'sum': 45636, 'min': 8, 'max': 991, 'mean': 197.55844155844156, 'std': 304.34214740728953}}\n",
            "2021-10-23 19:12:41,166 INFO Random average analysis {0: {'count': 269, 'sum': 128675.31764705881, 'min': 28.0, 'max': 958.0, 'mean': 478.346905751148, 'std': 157.26001279928406}, 1: {'count': 231, 'sum': 110231.24844720497, 'min': 8.0, 'max': 991.0, 'mean': 477.19155171950206, 'std': 183.15924196618118}}\n",
            "2021-10-23 19:12:41,167 INFO Random maximum analysis {0: {'count': 269, 'sum': 229252, 'min': 28, 'max': 1000, 'mean': 852.2379182156134, 'std': 273.85020715708515}, 1: {'count': 231, 'sum': 187881, 'min': 8, 'max': 991, 'mean': 813.3376623376623, 'std': 292.05953006369924}}\n",
            "2021-10-23 19:12:41,171 INFO UCB1 confusion matrix: [array([[140,   0,   0],\n",
            "       [188,   0,   0],\n",
            "       [172,   0,   0]])]\n",
            "2021-10-23 19:12:41,177 INFO UCB1 minimum analysis {0: {'count': 500, 'sum': 72373, 'min': 4, 'max': 996, 'mean': 144.746, 'std': 273.95137795601613}, 1: {'count': 0, 'sum': nan, 'min': nan, 'max': nan, 'mean': nan, 'std': nan}}\n",
            "2021-10-23 19:12:41,178 INFO UCB1 average analysis {0: {'count': 500, 'sum': 238339.3529411764, 'min': 28.0, 'max': 996.0, 'mean': 476.6787058823528, 'std': 156.3984336658617}, 1: {'count': 0, 'sum': nan, 'min': nan, 'max': nan, 'mean': nan, 'std': nan}}\n",
            "2021-10-23 19:12:41,182 INFO UCB1 maximum analysis {0: {'count': 500, 'sum': 430933, 'min': 28, 'max': 1000, 'mean': 861.866, 'std': 270.5110719434604}, 1: {'count': 0, 'sum': nan, 'min': nan, 'max': nan, 'mean': nan, 'std': nan}}\n",
            "2021-10-23 19:12:41,185 INFO ThompsonSampling confusion matrix: [array([[62, 78,  0],\n",
            "       [91, 97,  0],\n",
            "       [87, 85,  0]])]\n",
            "2021-10-23 19:12:41,191 INFO ThompsonSampling minimum analysis {0: {'count': 240, 'sum': 32731, 'min': 4, 'max': 996, 'mean': 136.37916666666666, 'std': 270.18369133974807}, 1: {'count': 260, 'sum': 48171, 'min': 4, 'max': 985, 'mean': 185.27307692307693, 'std': 294.7596518386989}}\n",
            "2021-10-23 19:12:41,192 INFO ThompsonSampling average analysis {0: {'count': 240, 'sum': 114792.14117647056, 'min': 28.0, 'max': 996.0, 'mean': 478.30058823529396, 'std': 152.29652682698978}, 1: {'count': 260, 'sum': 120784.96894409938, 'min': 4.0, 'max': 985.0, 'mean': 464.5575728619207, 'std': 186.65383476675552}}\n",
            "2021-10-23 19:12:41,197 INFO ThompsonSampling maximum analysis {0: {'count': 240, 'sum': 210019, 'min': 28, 'max': 1000, 'mean': 875.0791666666667, 'std': 259.7879062478446}, 1: {'count': 260, 'sum': 208074, 'min': 4, 'max': 990, 'mean': 800.2846153846153, 'std': 308.4646279338857}}\n",
            "2021-10-23 19:12:41,201 INFO EpsilonGreedy confusion matrix: [array([[132,   8,   0],\n",
            "       [174,  14,   0],\n",
            "       [161,  11,   0]])]\n",
            "2021-10-23 19:12:41,207 INFO EpsilonGreedy minimum analysis {0: {'count': 467, 'sum': 67401, 'min': 4, 'max': 996, 'mean': 144.32762312633832, 'std': 271.66165217538315}, 1: {'count': 33, 'sum': 9533, 'min': 9, 'max': 985, 'mean': 288.8787878787879, 'std': 354.7990261316754}}\n",
            "2021-10-23 19:12:41,209 INFO EpsilonGreedy average analysis {0: {'count': 467, 'sum': 221841.91176470584, 'min': 28.0, 'max': 996.0, 'mean': 475.03621362892045, 'std': 155.17498761307138}, 1: {'count': 33, 'sum': 17997.204968944097, 'min': 332.0, 'max': 985.0, 'mean': 545.3698475437606, 'std': 175.45556643972182}}\n",
            "2021-10-23 19:12:41,213 INFO EpsilonGreedy maximum analysis {0: {'count': 467, 'sum': 401061, 'min': 28, 'max': 1000, 'mean': 858.8029978586724, 'std': 272.8024984492952}, 1: {'count': 33, 'sum': 28172, 'min': 332, 'max': 990, 'mean': 853.6969696969697, 'std': 211.6321114502189}}\n",
            "2021-10-23 19:12:41,216 INFO Softmax confusion matrix: [array([[140,   0,   0],\n",
            "       [188,   0,   0],\n",
            "       [172,   0,   0]])]\n",
            "2021-10-23 19:12:41,222 INFO Softmax minimum analysis {0: {'count': 500, 'sum': 72373, 'min': 4, 'max': 996, 'mean': 144.746, 'std': 273.95137795601613}, 1: {'count': 0, 'sum': nan, 'min': nan, 'max': nan, 'mean': nan, 'std': nan}}\n",
            "2021-10-23 19:12:41,224 INFO Softmax average analysis {0: {'count': 500, 'sum': 238339.3529411764, 'min': 28.0, 'max': 996.0, 'mean': 476.6787058823528, 'std': 156.3984336658617}, 1: {'count': 0, 'sum': nan, 'min': nan, 'max': nan, 'mean': nan, 'std': nan}}\n",
            "2021-10-23 19:12:41,227 INFO Softmax maximum analysis {0: {'count': 500, 'sum': 430933, 'min': 28, 'max': 1000, 'mean': 861.866, 'std': 270.5110719434604}, 1: {'count': 0, 'sum': nan, 'min': nan, 'max': nan, 'mean': nan, 'std': nan}}\n",
            "2021-10-23 19:12:41,228 INFO Simulation complete\n"
          ]
        },
        {
          "output_type": "stream",
          "name": "stdout",
          "text": [
            "Complete 0.010185941060384115 minutes\n",
            "\n",
            "\n",
            "Random\n",
            "Worst Case Scenario: {0: {'count': 269, 'sum': 42004, 'min': 4, 'max': 958, 'mean': 156.14869888475837, 'std': 279.36967056729617}, 1: {'count': 231, 'sum': 45636, 'min': 8, 'max': 991, 'mean': 197.55844155844156, 'std': 304.34214740728953}}\n",
            "Average Case Scenario: {0: {'count': 269, 'sum': 128675.31764705881, 'min': 28.0, 'max': 958.0, 'mean': 478.346905751148, 'std': 157.26001279928406}, 1: {'count': 231, 'sum': 110231.24844720497, 'min': 8.0, 'max': 991.0, 'mean': 477.19155171950206, 'std': 183.15924196618118}}\n",
            "Best Case Scenario: {0: {'count': 269, 'sum': 229252, 'min': 28, 'max': 1000, 'mean': 852.2379182156134, 'std': 273.85020715708515}, 1: {'count': 231, 'sum': 187881, 'min': 8, 'max': 991, 'mean': 813.3376623376623, 'std': 292.05953006369924}}\n",
            "\n",
            "\n",
            "\n",
            "UCB1\n",
            "Worst Case Scenario: {0: {'count': 500, 'sum': 72373, 'min': 4, 'max': 996, 'mean': 144.746, 'std': 273.95137795601613}, 1: {'count': 0, 'sum': nan, 'min': nan, 'max': nan, 'mean': nan, 'std': nan}}\n",
            "Average Case Scenario: {0: {'count': 500, 'sum': 238339.3529411764, 'min': 28.0, 'max': 996.0, 'mean': 476.6787058823528, 'std': 156.3984336658617}, 1: {'count': 0, 'sum': nan, 'min': nan, 'max': nan, 'mean': nan, 'std': nan}}\n",
            "Best Case Scenario: {0: {'count': 500, 'sum': 430933, 'min': 28, 'max': 1000, 'mean': 861.866, 'std': 270.5110719434604}, 1: {'count': 0, 'sum': nan, 'min': nan, 'max': nan, 'mean': nan, 'std': nan}}\n",
            "\n",
            "\n",
            "\n",
            "ThompsonSampling\n",
            "Worst Case Scenario: {0: {'count': 240, 'sum': 32731, 'min': 4, 'max': 996, 'mean': 136.37916666666666, 'std': 270.18369133974807}, 1: {'count': 260, 'sum': 48171, 'min': 4, 'max': 985, 'mean': 185.27307692307693, 'std': 294.7596518386989}}\n",
            "Average Case Scenario: {0: {'count': 240, 'sum': 114792.14117647056, 'min': 28.0, 'max': 996.0, 'mean': 478.30058823529396, 'std': 152.29652682698978}, 1: {'count': 260, 'sum': 120784.96894409938, 'min': 4.0, 'max': 985.0, 'mean': 464.5575728619207, 'std': 186.65383476675552}}\n",
            "Best Case Scenario: {0: {'count': 240, 'sum': 210019, 'min': 28, 'max': 1000, 'mean': 875.0791666666667, 'std': 259.7879062478446}, 1: {'count': 260, 'sum': 208074, 'min': 4, 'max': 990, 'mean': 800.2846153846153, 'std': 308.4646279338857}}\n",
            "\n",
            "\n",
            "\n",
            "EpsilonGreedy\n",
            "Worst Case Scenario: {0: {'count': 467, 'sum': 67401, 'min': 4, 'max': 996, 'mean': 144.32762312633832, 'std': 271.66165217538315}, 1: {'count': 33, 'sum': 9533, 'min': 9, 'max': 985, 'mean': 288.8787878787879, 'std': 354.7990261316754}}\n",
            "Average Case Scenario: {0: {'count': 467, 'sum': 221841.91176470584, 'min': 28.0, 'max': 996.0, 'mean': 475.03621362892045, 'std': 155.17498761307138}, 1: {'count': 33, 'sum': 17997.204968944097, 'min': 332.0, 'max': 985.0, 'mean': 545.3698475437606, 'std': 175.45556643972182}}\n",
            "Best Case Scenario: {0: {'count': 467, 'sum': 401061, 'min': 28, 'max': 1000, 'mean': 858.8029978586724, 'std': 272.8024984492952}, 1: {'count': 33, 'sum': 28172, 'min': 332, 'max': 990, 'mean': 853.6969696969697, 'std': 211.6321114502189}}\n",
            "\n",
            "\n",
            "\n",
            "Softmax\n",
            "Worst Case Scenario: {0: {'count': 500, 'sum': 72373, 'min': 4, 'max': 996, 'mean': 144.746, 'std': 273.95137795601613}, 1: {'count': 0, 'sum': nan, 'min': nan, 'max': nan, 'mean': nan, 'std': nan}}\n",
            "Average Case Scenario: {0: {'count': 500, 'sum': 238339.3529411764, 'min': 28.0, 'max': 996.0, 'mean': 476.6787058823528, 'std': 156.3984336658617}, 1: {'count': 0, 'sum': nan, 'min': nan, 'max': nan, 'mean': nan, 'std': nan}}\n",
            "Best Case Scenario: {0: {'count': 500, 'sum': 430933, 'min': 28, 'max': 1000, 'mean': 861.866, 'std': 270.5110719434604}, 1: {'count': 0, 'sum': nan, 'min': nan, 'max': nan, 'mean': nan, 'std': nan}}\n",
            "\n",
            "\n",
            "\n"
          ]
        },
        {
          "output_type": "display_data",
          "data": {
            "image/png": "[encoded data removed]",
            "text/plain": [
              "<Figure size 432x288 with 1 Axes>"
            ]
          },
          "metadata": {
            "needs_background": "light"
          }
        }
      ]
    },
    {
      "cell_type": "markdown",
      "metadata": {
        "id": "WyRUTa_4WN67"
      },
      "source": [
        "### Actividad 3: Simulación \"on-line\" con contexto.\n",
        "\n",
        "Basándose en el código anterior, vamos a repetir este experimento para los bandidos con contexto definidos anteriormente. Recuerde que los datos de contextos deben ser escalados, por lo que debe cambiar el parámetro scaler.\n",
        "\n",
        "Esta simulación, a diferencia de la anterior, simulará un agente que se va actualizando de manera \"on-line\", en donde en cada iteración, los agentes reciben $100$ datos y en base a estos, actualizan sus políticas. Para hacer esto, solo debe modificar el parámetro de batch-size. Comente sus resultados"
      ]
    },
    {
      "cell_type": "code",
      "metadata": {
        "id": "guemFwW9XNoL",
        "colab": {
          "base_uri": "https://localhost:8080/",
          "height": 128
        },
        "outputId": "495df939-bd2c-4081-fa7c-eebac0e13764"
      },
      "source": [
        "start = time()\n",
        "sim = # Rellenar\n",
        "sim.run()\n",
        "end = time()\n",
        "\n",
        "runtime = (end - start) / 60\n",
        "print('Complete', str(runtime) + ' minutes')\n",
        "print('\\n')\n",
        "\n",
        "for mab_name, mab in sim.bandits:\n",
        "    print(mab_name)\n",
        "\n",
        "    # Como esta simulación es online, se debe específicar que imprima el valor 'total'\n",
        "    print('Worst Case Scenario:', sim.bandit_to_arm_to_stats_min[mab_name]['total'])\n",
        "    print('Average Case Scenario:', sim.bandit_to_arm_to_stats_avg[mab_name]['total'])\n",
        "    print('Best Case Scenario:', sim.bandit_to_arm_to_stats_max[mab_name]['total'])\n",
        "\n",
        "    print('\\n\\n')\n",
        "\n",
        "sim.plot('avg', False)\n",
        "# Como buscamos ahora maximizar el revenue, no separaremos los resultados por brazo, sino que se graficará de manera conjunta el revenue promedio obtenido por cada agente."
      ],
      "execution_count": null,
      "outputs": [
        {
          "output_type": "error",
          "ename": "SyntaxError",
          "evalue": "ignored",
          "traceback": [
            "\u001b[0;36m  File \u001b[0;32m\"<ipython-input-9-860e63af80f3>\"\u001b[0;36m, line \u001b[0;32m2\u001b[0m\n\u001b[0;31m    sim = # Rellenar\u001b[0m\n\u001b[0m                    ^\u001b[0m\n\u001b[0;31mSyntaxError\u001b[0m\u001b[0;31m:\u001b[0m invalid syntax\n"
          ]
        }
      ]
    }
  ]
}